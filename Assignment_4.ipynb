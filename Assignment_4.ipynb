{
 "cells": [
  {
   "cell_type": "markdown",
   "metadata": {},
   "source": [
    "# Assignment 4\n",
    "\n",
    "---\n",
    "\n",
    "LeBron James is one of the most popular sports figure in the world and is regarded as one of the All-Time Greats in NBA History. He puts on a show every game contributing to the game with points, rebounds, assists, and etc., and when the money is on the line, and during high-leverage moments especially during the playoffs, sports analysts and fans describes another level of LeBron's game called the Playoff Lebron. In this assignment, I will try to find out whether or not there really is another level that is Playoff LeBron or his greatness from the regular season just translates into the playoffs nothing more nothing less. In order to answer the question, \"Is Playoff LeBron real?\", I will try to compare and find if there is a significant difference between LeBron's regular season PER and playoffs PER. Player Efficiency Rating or PER is one of the stats that measures the overall performance of a player considering the positive and negative attributes as well as the team and league stats. The computation of PER based on ESPN's John Hollinger consider's league and team stats and for the sake of simplicity I will use a simplified computation of PER using [Zach Fein's formula](https://bleacherreport.com/articles/113144-cracking-the-code-how-to-calculate-hollingers-per-without-all-the-mess) which involved linear weights. The result will be different from the PER stat recorded in ESPN but it will be close. \n",
    "\n",
    "The dataset to be used in this assignment involves LeBron's regular season and playoff stats from 2006-2018 where he made it into his consecutive playoff appearances. \n",
    "\n",
    "---"
   ]
  },
  {
   "cell_type": "markdown",
   "metadata": {},
   "source": [
    "# Step 1 : Data Preprocessing"
   ]
  },
  {
   "cell_type": "code",
   "execution_count": 152,
   "metadata": {},
   "outputs": [
    {
     "data": {
      "text/plain": [
       "13"
      ]
     },
     "execution_count": 152,
     "metadata": {},
     "output_type": "execute_result"
    }
   ],
   "source": [
    "import pandas as pd\n",
    "\n",
    "regular_season_stats = []\n",
    "# Clean Data\n",
    "regular_season_2005_2006 = pd.read_csv('./dataset/lebron-james/season/2005-2006.csv')\n",
    "regular_season_2005_2006.dtypes\n",
    "regular_season_2005_2006 = regular_season_2005_2006[~(regular_season_2005_2006['PTS'] == 'Inactive')]\n",
    "regular_season_stats.append(regular_season_2005_2006)\n",
    "\n",
    "regular_season_2006_2007 = pd.read_csv('./dataset/lebron-james/season/2006-2007.csv')\n",
    "regular_season_2006_2007 = regular_season_2006_2007[~(regular_season_2006_2007['PTS'] == 'Inactive')]\n",
    "regular_season_stats.append(regular_season_2006_2007)\n",
    "\n",
    "regular_season_2007_2008 = pd.read_csv('./dataset/lebron-james/season/2007-2008.csv')\n",
    "regular_season_2007_2008 = regular_season_2007_2008[~(regular_season_2007_2008['PTS'] == 'Inactive')]\n",
    "regular_season_2007_2008 = regular_season_2007_2008[~(regular_season_2007_2008['PTS'] == 'Did Not Dress')]\n",
    "regular_season_stats.append(regular_season_2007_2008)\n",
    "\n",
    "regular_season_2008_2009 = pd.read_csv('./dataset/lebron-james/season/2008-2009.csv')\n",
    "regular_season_2008_2009 = regular_season_2008_2009[~((regular_season_2008_2009['PTS'] == 'Inactive') | (regular_season_2008_2009['PTS'] == 'Did Not Dress'))]\n",
    "regular_season_stats.append(regular_season_2008_2009)\n",
    "\n",
    "regular_season_2009_2010 = pd.read_csv('./dataset/lebron-james/season/2009-2010.csv')\n",
    "regular_season_2009_2010 = regular_season_2009_2010[~((regular_season_2009_2010['PTS'] == 'Inactive') | (regular_season_2009_2010['PTS'] == 'Did Not Dress'))]\n",
    "regular_season_stats.append(regular_season_2009_2010)\n",
    "\n",
    "regular_season_2010_2011 = pd.read_csv('./dataset/lebron-james/season/2010-2011.csv')\n",
    "regular_season_2010_2011 = regular_season_2010_2011[~((regular_season_2010_2011['PTS'] == 'Inactive') | (regular_season_2010_2011['PTS'] == 'Did Not Dress') | (regular_season_2010_2011['PTS'] == 'Did Not Play'))]\n",
    "regular_season_stats.append(regular_season_2010_2011)\n",
    "\n",
    "regular_season_2011_2012 = pd.read_csv('./dataset/lebron-james/season/2011-2012.csv')\n",
    "regular_season_2011_2012 = regular_season_2011_2012[~((regular_season_2011_2012['PTS'] == 'Inactive') | (regular_season_2011_2012['PTS'] == 'Did Not Dress') | (regular_season_2011_2012['PTS'] == 'Did Not Play'))]\n",
    "regular_season_stats.append(regular_season_2011_2012)\n",
    "\n",
    "regular_season_2012_2013 = pd.read_csv('./dataset/lebron-james/season/2012-2013.csv')\n",
    "regular_season_2012_2013 = regular_season_2012_2013[~((regular_season_2012_2013['PTS'] == 'Inactive') | (regular_season_2012_2013['PTS'] == 'Did Not Dress') | (regular_season_2012_2013['PTS'] == 'Did Not Play'))]\n",
    "regular_season_stats.append(regular_season_2012_2013)\n",
    "\n",
    "regular_season_2013_2014 = pd.read_csv('./dataset/lebron-james/season/2013-2014.csv')\n",
    "regular_season_2013_2014 = regular_season_2013_2014[~((regular_season_2013_2014['PTS'] == 'Inactive') | (regular_season_2013_2014['PTS'] == 'Did Not Dress') | (regular_season_2013_2014['PTS'] == 'Did Not Play'))]\n",
    "regular_season_stats.append(regular_season_2013_2014)\n",
    "\n",
    "regular_season_2014_2015 = pd.read_csv('./dataset/lebron-james/season/2014-2015.csv')\n",
    "regular_season_2014_2015 = regular_season_2014_2015[~((regular_season_2014_2015['PTS'] == 'Inactive') | (regular_season_2014_2015['PTS'] == 'Did Not Dress') | (regular_season_2014_2015['PTS'] == 'Did Not Play'))]\n",
    "regular_season_stats.append(regular_season_2014_2015)\n",
    "\n",
    "regular_season_2015_2016 = pd.read_csv('./dataset/lebron-james/season/2015-2016.csv')\n",
    "regular_season_2015_2016 = regular_season_2015_2016[~((regular_season_2015_2016['PTS'] == 'Inactive') | (regular_season_2015_2016['PTS'] == 'Did Not Dress') | (regular_season_2015_2016['PTS'] == 'Did Not Play'))]\n",
    "regular_season_stats.append(regular_season_2015_2016)\n",
    "\n",
    "regular_season_2016_2017 = pd.read_csv('./dataset/lebron-james/season/2016-2017.csv')\n",
    "regular_season_2016_2017 = regular_season_2016_2017[~((regular_season_2016_2017['PTS'] == 'Inactive') | (regular_season_2016_2017['PTS'] == 'Did Not Dress') | (regular_season_2016_2017['PTS'] == 'Did Not Play') | (regular_season_2016_2017['PTS'] == 'Not With Team'))]\n",
    "regular_season_stats.append(regular_season_2016_2017)\n",
    "\n",
    "regular_season_2017_2018 = pd.read_csv('./dataset/lebron-james/season/2017-2018.csv')\n",
    "regular_season_stats.append(regular_season_2017_2018)\n",
    "\n",
    "len(regular_season_stats)"
   ]
  },
  {
   "cell_type": "code",
   "execution_count": 153,
   "metadata": {},
   "outputs": [
    {
     "data": {
      "text/html": [
       "<div>\n",
       "<style scoped>\n",
       "    .dataframe tbody tr th:only-of-type {\n",
       "        vertical-align: middle;\n",
       "    }\n",
       "\n",
       "    .dataframe tbody tr th {\n",
       "        vertical-align: top;\n",
       "    }\n",
       "\n",
       "    .dataframe thead th {\n",
       "        text-align: right;\n",
       "    }\n",
       "</style>\n",
       "<table border=\"1\" class=\"dataframe\">\n",
       "  <thead>\n",
       "    <tr style=\"text-align: right;\">\n",
       "      <th></th>\n",
       "      <th>Rk</th>\n",
       "      <th>G</th>\n",
       "      <th>Date</th>\n",
       "      <th>Age</th>\n",
       "      <th>Tm</th>\n",
       "      <th>Unnamed: 5</th>\n",
       "      <th>Opp</th>\n",
       "      <th>Unnamed: 7</th>\n",
       "      <th>GS</th>\n",
       "      <th>MP</th>\n",
       "      <th>...</th>\n",
       "      <th>DRB</th>\n",
       "      <th>TRB</th>\n",
       "      <th>AST</th>\n",
       "      <th>STL</th>\n",
       "      <th>BLK</th>\n",
       "      <th>TOV</th>\n",
       "      <th>PF</th>\n",
       "      <th>PTS</th>\n",
       "      <th>GmSc</th>\n",
       "      <th>+/-</th>\n",
       "    </tr>\n",
       "  </thead>\n",
       "  <tbody>\n",
       "    <tr>\n",
       "      <th>0</th>\n",
       "      <td>1</td>\n",
       "      <td>1.0</td>\n",
       "      <td>2005-11-02</td>\n",
       "      <td>20-307</td>\n",
       "      <td>CLE</td>\n",
       "      <td>NaN</td>\n",
       "      <td>NOK</td>\n",
       "      <td>W (+22)</td>\n",
       "      <td>1</td>\n",
       "      <td>33:23</td>\n",
       "      <td>...</td>\n",
       "      <td>2</td>\n",
       "      <td>3</td>\n",
       "      <td>4</td>\n",
       "      <td>2</td>\n",
       "      <td>0</td>\n",
       "      <td>3</td>\n",
       "      <td>3</td>\n",
       "      <td>31</td>\n",
       "      <td>24.9</td>\n",
       "      <td>+22</td>\n",
       "    </tr>\n",
       "    <tr>\n",
       "      <th>1</th>\n",
       "      <td>2</td>\n",
       "      <td>2.0</td>\n",
       "      <td>2005-11-04</td>\n",
       "      <td>20-309</td>\n",
       "      <td>CLE</td>\n",
       "      <td>@</td>\n",
       "      <td>SAS</td>\n",
       "      <td>L (-26)</td>\n",
       "      <td>1</td>\n",
       "      <td>36:34</td>\n",
       "      <td>...</td>\n",
       "      <td>6</td>\n",
       "      <td>6</td>\n",
       "      <td>4</td>\n",
       "      <td>0</td>\n",
       "      <td>1</td>\n",
       "      <td>3</td>\n",
       "      <td>3</td>\n",
       "      <td>20</td>\n",
       "      <td>12.3</td>\n",
       "      <td>-19</td>\n",
       "    </tr>\n",
       "    <tr>\n",
       "      <th>2</th>\n",
       "      <td>3</td>\n",
       "      <td>3.0</td>\n",
       "      <td>2005-11-05</td>\n",
       "      <td>20-310</td>\n",
       "      <td>CLE</td>\n",
       "      <td>@</td>\n",
       "      <td>MEM</td>\n",
       "      <td>L (-7)</td>\n",
       "      <td>1</td>\n",
       "      <td>40:51</td>\n",
       "      <td>...</td>\n",
       "      <td>2</td>\n",
       "      <td>2</td>\n",
       "      <td>6</td>\n",
       "      <td>2</td>\n",
       "      <td>0</td>\n",
       "      <td>2</td>\n",
       "      <td>2</td>\n",
       "      <td>36</td>\n",
       "      <td>24.9</td>\n",
       "      <td>-3</td>\n",
       "    </tr>\n",
       "    <tr>\n",
       "      <th>3</th>\n",
       "      <td>4</td>\n",
       "      <td>4.0</td>\n",
       "      <td>2005-11-07</td>\n",
       "      <td>20-312</td>\n",
       "      <td>CLE</td>\n",
       "      <td>@</td>\n",
       "      <td>TOR</td>\n",
       "      <td>W (+12)</td>\n",
       "      <td>1</td>\n",
       "      <td>36:28</td>\n",
       "      <td>...</td>\n",
       "      <td>3</td>\n",
       "      <td>3</td>\n",
       "      <td>6</td>\n",
       "      <td>1</td>\n",
       "      <td>2</td>\n",
       "      <td>1</td>\n",
       "      <td>3</td>\n",
       "      <td>27</td>\n",
       "      <td>22.8</td>\n",
       "      <td>0</td>\n",
       "    </tr>\n",
       "    <tr>\n",
       "      <th>4</th>\n",
       "      <td>5</td>\n",
       "      <td>5.0</td>\n",
       "      <td>2005-11-09</td>\n",
       "      <td>20-314</td>\n",
       "      <td>CLE</td>\n",
       "      <td>NaN</td>\n",
       "      <td>SEA</td>\n",
       "      <td>W (+27)</td>\n",
       "      <td>1</td>\n",
       "      <td>35:38</td>\n",
       "      <td>...</td>\n",
       "      <td>4</td>\n",
       "      <td>5</td>\n",
       "      <td>1</td>\n",
       "      <td>0</td>\n",
       "      <td>1</td>\n",
       "      <td>4</td>\n",
       "      <td>1</td>\n",
       "      <td>31</td>\n",
       "      <td>21.3</td>\n",
       "      <td>+25</td>\n",
       "    </tr>\n",
       "  </tbody>\n",
       "</table>\n",
       "<p>5 rows × 30 columns</p>\n",
       "</div>"
      ],
      "text/plain": [
       "   Rk    G        Date     Age   Tm Unnamed: 5  Opp Unnamed: 7 GS     MP  ...  \\\n",
       "0   1  1.0  2005-11-02  20-307  CLE        NaN  NOK    W (+22)  1  33:23  ...   \n",
       "1   2  2.0  2005-11-04  20-309  CLE          @  SAS    L (-26)  1  36:34  ...   \n",
       "2   3  3.0  2005-11-05  20-310  CLE          @  MEM     L (-7)  1  40:51  ...   \n",
       "3   4  4.0  2005-11-07  20-312  CLE          @  TOR    W (+12)  1  36:28  ...   \n",
       "4   5  5.0  2005-11-09  20-314  CLE        NaN  SEA    W (+27)  1  35:38  ...   \n",
       "\n",
       "  DRB TRB AST STL BLK TOV PF PTS  GmSc  +/-  \n",
       "0   2   3   4   2   0   3  3  31  24.9  +22  \n",
       "1   6   6   4   0   1   3  3  20  12.3  -19  \n",
       "2   2   2   6   2   0   2  2  36  24.9   -3  \n",
       "3   3   3   6   1   2   1  3  27  22.8    0  \n",
       "4   4   5   1   0   1   4  1  31  21.3  +25  \n",
       "\n",
       "[5 rows x 30 columns]"
      ]
     },
     "execution_count": 153,
     "metadata": {},
     "output_type": "execute_result"
    }
   ],
   "source": [
    "regular_season_stats[0].head()"
   ]
  },
  {
   "cell_type": "code",
   "execution_count": 154,
   "metadata": {},
   "outputs": [],
   "source": [
    "#Playoffs\n",
    "\n",
    "playoff_stats = []\n",
    "playoff_stats.append(pd.read_csv('./dataset/lebron-james/playoffs/2006-Playoffs.csv'))\n",
    "playoff_stats.append(pd.read_csv('./dataset/lebron-james/playoffs/2007-Playoffs.csv'))\n",
    "playoff_stats.append(pd.read_csv('./dataset/lebron-james/playoffs/2008-Playoffs.csv'))\n",
    "playoff_stats.append(pd.read_csv('./dataset/lebron-james/playoffs/2009-Playoffs.csv'))\n",
    "playoff_stats.append(pd.read_csv('./dataset/lebron-james/playoffs/2010-Playoffs.csv'))\n",
    "playoff_stats.append(pd.read_csv('./dataset/lebron-james/playoffs/2011-Playoffs.csv'))\n",
    "playoff_stats.append(pd.read_csv('./dataset/lebron-james/playoffs/2012-Playoffs.csv'))\n",
    "playoff_stats.append(pd.read_csv('./dataset/lebron-james/playoffs/2013-Playoffs.csv'))\n",
    "playoff_stats.append(pd.read_csv('./dataset/lebron-james/playoffs/2014-Playoffs.csv'))\n",
    "playoff_stats.append(pd.read_csv('./dataset/lebron-james/playoffs/2015-Playoffs.csv'))\n",
    "playoff_stats.append(pd.read_csv('./dataset/lebron-james/playoffs/2016-Playoffs.csv'))\n",
    "playoff_stats.append(pd.read_csv('./dataset/lebron-james/playoffs/2017-Playoffs.csv'))\n",
    "playoff_stats.append(pd.read_csv('./dataset/lebron-james/playoffs/2018-Playoffs.csv'))"
   ]
  },
  {
   "cell_type": "markdown",
   "metadata": {},
   "source": [
    "# Step 2 - Applying PER formula"
   ]
  },
  {
   "cell_type": "code",
   "execution_count": 145,
   "metadata": {},
   "outputs": [
    {
     "data": {
      "text/plain": [
       "0     48.000000\n",
       "1     43.466667\n",
       "2     47.616667\n",
       "3     45.333333\n",
       "4     46.116667\n",
       "5     53.000000\n",
       "6     36.000000\n",
       "7     47.533333\n",
       "8     48.000000\n",
       "9     48.000000\n",
       "10    46.833333\n",
       "11    47.833333\n",
       "12    46.750000\n",
       "dtype: float64"
      ]
     },
     "execution_count": 145,
     "metadata": {},
     "output_type": "execute_result"
    }
   ],
   "source": [
    "playoff_stats[0].head()\n",
    "prac = playoff_stats[0]['MP']\n",
    "prac\n",
    "prac = '00:' + prac\n",
    "prac = pd.to_timedelta(prac)\n",
    "prac = prac.dt.components['minutes'].astype(int) + (prac.dt.components['seconds'].astype(int) / 60)\n",
    "prac"
   ]
  },
  {
   "cell_type": "code",
   "execution_count": 155,
   "metadata": {},
   "outputs": [],
   "source": [
    "def apply_per(df_list):\n",
    "    for df in df_list:\n",
    "        p = df['MP']\n",
    "        p = '00:' + p\n",
    "        p = pd.to_timedelta(p)\n",
    "        p = p.dt.components['minutes'].astype(int) + (p.dt.components['seconds'].astype(int) / 60)\n",
    "        df['MP'] = p\n",
    "        df['PER'] = (df['FG'].astype(int) * 85.910) .astype(int)\n",
    "        df['PER'] = df['PER'] + + (df['STL'].astype(int) * 53.897)\n",
    "        df['PER'] = df['PER'] + (df['3P'].astype(int) * 51.757)\n",
    "        df['PER'] = df['PER'] + (df['FT'].astype(int) * 46.845) + (df['BLK'].astype(int) * 39.190) + (df['ORB'].astype(int) * 39.190) + (df['AST'].astype(int) * 34.677) + (df['DRB'].astype(int) * 14.707) - (df['PF'].astype(int) * 17.174) - ((df['FTA'].astype(int) - df['FT'].astype(int)) * 20.091) - ((df['FGA'].astype(int) - df['FG'].astype(int)) * 39.190) - (df['TOV'].astype(int) * 53.897)\n",
    "        df['PER'] = df['PER'] * (1.0 / df['MP'])"
   ]
  },
  {
   "cell_type": "code",
   "execution_count": 156,
   "metadata": {},
   "outputs": [],
   "source": [
    "apply_per(regular_season_stats)\n",
    "apply_per(playoff_stats)"
   ]
  },
  {
   "cell_type": "markdown",
   "metadata": {},
   "source": [
    "# Step 3 - Compute Means and Confidence Intervals"
   ]
  },
  {
   "cell_type": "code",
   "execution_count": 163,
   "metadata": {},
   "outputs": [],
   "source": [
    "import numpy as np\n",
    "\n",
    "regular_season_PER_means = [df['PER'].mean() for df in regular_season_stats]\n",
    "player_PER_means = [df['PER'].mean() for df in playoff_stats]"
   ]
  },
  {
   "cell_type": "code",
   "execution_count": 165,
   "metadata": {},
   "outputs": [
    {
     "data": {
      "text/plain": [
       "[26.38425568584815,\n",
       " 23.727644379898713,\n",
       " 28.543467096275418,\n",
       " 31.066511229608643,\n",
       " 31.285487502459613,\n",
       " 27.02031932825526,\n",
       " 29.70256054608949,\n",
       " 31.605962993885345,\n",
       " 29.054908950235067,\n",
       " 26.24290658359868,\n",
       " 28.215640681271463,\n",
       " 29.135902746400134,\n",
       " 31.41372127028022]"
      ]
     },
     "execution_count": 165,
     "metadata": {},
     "output_type": "execute_result"
    }
   ],
   "source": [
    "regular_season_PER_means"
   ]
  },
  {
   "cell_type": "code",
   "execution_count": 166,
   "metadata": {},
   "outputs": [
    {
     "data": {
      "text/plain": [
       "[20.624718206867065,\n",
       " 20.726829522653635,\n",
       " 22.982583288759205,\n",
       " 35.14972605756082,\n",
       " 29.666227387307803,\n",
       " 21.207229101590602,\n",
       " 27.316070979693837,\n",
       " 25.45568427974817,\n",
       " 28.250804166807352,\n",
       " 24.43242245998795,\n",
       " 29.425646776201067,\n",
       " 33.631346770728214,\n",
       " 32.36549731687009]"
      ]
     },
     "execution_count": 166,
     "metadata": {},
     "output_type": "execute_result"
    }
   ],
   "source": [
    "player_PER_means"
   ]
  },
  {
   "cell_type": "code",
   "execution_count": 168,
   "metadata": {},
   "outputs": [],
   "source": [
    "regular_season_stds = [np.std(df['PER']) for df in regular_season_stats]\n",
    "playoff_stds = [np.std(df['PER']) for df in playoff_stats]"
   ]
  },
  {
   "cell_type": "code",
   "execution_count": 171,
   "metadata": {},
   "outputs": [],
   "source": [
    "ci_regular_season = []\n",
    "ci_playoffs = []\n",
    "for i in range(13):\n",
    "    ci_regular_season.append(1.96 * regular_season_stds[i] / np.sqrt(len(regular_season_stats[i].index)))\n",
    "    ci_playoffs.append(1.96 * playoff_stds[i] / np.sqrt(len(playoff_stats[i].index)))"
   ]
  },
  {
   "cell_type": "code",
   "execution_count": 172,
   "metadata": {},
   "outputs": [
    {
     "data": {
      "text/plain": [
       "[2.2253847119873202,\n",
       " 1.8565857030875745,\n",
       " 2.166896985816255,\n",
       " 2.03052625829924,\n",
       " 1.8639854434609138,\n",
       " 2.1440741162775154,\n",
       " 2.364952729200351,\n",
       " 1.816341487300109,\n",
       " 2.1584331049114343,\n",
       " 2.571043230846198,\n",
       " 1.958883945127422,\n",
       " 1.8240960133693522,\n",
       " 2.2201689036076777]"
      ]
     },
     "execution_count": 172,
     "metadata": {},
     "output_type": "execute_result"
    }
   ],
   "source": [
    "ci_regular_season"
   ]
  },
  {
   "cell_type": "markdown",
   "metadata": {},
   "source": [
    "# Step 4 - Plot Values"
   ]
  },
  {
   "cell_type": "code",
   "execution_count": 239,
   "metadata": {},
   "outputs": [
    {
     "data": {
      "image/png": "[encoded data removed]",
      "text/plain": [
       "<Figure size 1080x720 with 1 Axes>"
      ]
     },
     "metadata": {
      "needs_background": "light"
     },
     "output_type": "display_data"
    }
   ],
   "source": [
    "import matplotlib.pyplot as plt\n",
    "from scipy.misc import imread\n",
    "\n",
    "x = [2005, 2006, 2007, 2008, 2009, 2010, 2011, 2012, 2013, 2014, 2015, 2016, 2017]\n",
    "x2 = [i - 0.3 for i in x]\n",
    "ax = plt.subplot(111)\n",
    "\n",
    "fig = plt.gcf()\n",
    "fig.set_size_inches(15, 10)\n",
    "#ax.bar(x - 0.2, regular_season_PER_means)\n",
    "rec1 = ax.bar(x2, regular_season_PER_means, width=0.3, yerr=ci_regular_season, capsize=1, label='Regular Season Average PER', color='#009FB7')\n",
    "rec2 = ax.bar(x, player_PER_means, width=0.3, yerr=ci_playoffs, capsize=1, label='Playoffs Average PER', color='#FE4A49')\n",
    "\n",
    "labels=[]\n",
    "for i in range(13):\n",
    "    s = str(x[i])\n",
    "    s = s + '-' + str(x[i]+1)\n",
    "    labels.append(s)\n",
    "\n",
    "plt.xticks(x)\n",
    "ax.set_xticklabels(labels)\n",
    "title = ax.title\n",
    "title.set_position([.5, 1.04])\n",
    "plt.xlabel('Season', fontsize=13, fontweight='bold', labelpad=10)\n",
    "plt.ylabel('Player Efficiency Rating (PER)', fontsize=13, fontweight='bold')\n",
    "plt.title('LeBron James Regular Season and Playoffs Average Linear Weights PER', fontsize=15, fontweight='bold')\n",
    "plt.legend()\n",
    "plt.show()"
   ]
  },
  {
   "cell_type": "code",
   "execution_count": 192,
   "metadata": {},
   "outputs": [],
   "source": [
    "labels=[]\n",
    "for i in range(13):\n",
    "    s = str(x[i])\n",
    "    s = s + '-' + str(x[i]+1)\n",
    "    labels.append(s)"
   ]
  },
  {
   "cell_type": "code",
   "execution_count": 193,
   "metadata": {},
   "outputs": [
    {
     "data": {
      "text/plain": [
       "['2005-2006',\n",
       " '2006-2007',\n",
       " '2007-2008',\n",
       " '2008-2009',\n",
       " '2009-2010',\n",
       " '2010-2011',\n",
       " '2011-2012',\n",
       " '2012-2013',\n",
       " '2013-2014',\n",
       " '2014-2015',\n",
       " '2015-2016',\n",
       " '2016-2017',\n",
       " '2017-2018']"
      ]
     },
     "execution_count": 193,
     "metadata": {},
     "output_type": "execute_result"
    }
   ],
   "source": [
    "labels"
   ]
  },
  {
   "cell_type": "code",
   "execution_count": null,
   "metadata": {},
   "outputs": [],
   "source": []
  }
 ],
 "metadata": {
  "kernelspec": {
   "display_name": "Python 3",
   "language": "python",
   "name": "python3"
  },
  "language_info": {
   "codemirror_mode": {
    "name": "ipython",
    "version": 3
   },
   "file_extension": ".py",
   "mimetype": "text/x-python",
   "name": "python",
   "nbconvert_exporter": "python",
   "pygments_lexer": "ipython3",
   "version": "3.7.3"
  }
 },
 "nbformat": 4,
 "nbformat_minor": 2
}
